{
 "cells": [
  {
   "cell_type": "code",
   "execution_count": 41,
   "metadata": {
    "collapsed": true
   },
   "outputs": [],
   "source": [
    "import numpy as np\n",
    "import pandas as pd\n",
    "import scipy.stats as stats\n",
    "import matplotlib.pyplot as plt\n",
    "import sklearn\n",
    "from sklearn.model_selection import train_test_split\n",
    "from sklearn.linear_model import LinearRegression"
   ]
  },
  {
   "cell_type": "code",
   "execution_count": 42,
   "metadata": {
    "collapsed": true
   },
   "outputs": [],
   "source": [
    "bos=pd.read_csv('C:/Users/rajka/Downloads/boston.csv')"
   ]
  },
  {
   "cell_type": "code",
   "execution_count": 43,
   "metadata": {},
   "outputs": [
    {
     "data": {
      "text/plain": [
       "array(['CRIM', 'ZN', 'INDUS', 'CHAS', 'NOX', 'RM', 'AGE', 'DIS', 'RAD',\n",
       "       'TAX', 'PT', 'B', 'LSTAT', 'MV'], dtype=object)"
      ]
     },
     "execution_count": 43,
     "metadata": {},
     "output_type": "execute_result"
    }
   ],
   "source": [
    "bos.columns.values"
   ]
  },
  {
   "cell_type": "code",
   "execution_count": 44,
   "metadata": {},
   "outputs": [
    {
     "data": {
      "text/html": [
       "<div>\n",
       "<style>\n",
       "    .dataframe thead tr:only-child th {\n",
       "        text-align: right;\n",
       "    }\n",
       "\n",
       "    .dataframe thead th {\n",
       "        text-align: left;\n",
       "    }\n",
       "\n",
       "    .dataframe tbody tr th {\n",
       "        vertical-align: top;\n",
       "    }\n",
       "</style>\n",
       "<table border=\"1\" class=\"dataframe\">\n",
       "  <thead>\n",
       "    <tr style=\"text-align: right;\">\n",
       "      <th></th>\n",
       "      <th>CRIM</th>\n",
       "      <th>ZN</th>\n",
       "      <th>INDUS</th>\n",
       "      <th>CHAS</th>\n",
       "      <th>NOX</th>\n",
       "      <th>RM</th>\n",
       "      <th>AGE</th>\n",
       "      <th>DIS</th>\n",
       "      <th>RAD</th>\n",
       "      <th>TAX</th>\n",
       "      <th>PT</th>\n",
       "      <th>B</th>\n",
       "      <th>LSTAT</th>\n",
       "      <th>MV</th>\n",
       "    </tr>\n",
       "  </thead>\n",
       "  <tbody>\n",
       "    <tr>\n",
       "      <th>0</th>\n",
       "      <td>0.00632</td>\n",
       "      <td>18.0</td>\n",
       "      <td>2.31</td>\n",
       "      <td>0</td>\n",
       "      <td>0.538</td>\n",
       "      <td>6.575</td>\n",
       "      <td>65.199997</td>\n",
       "      <td>4.0900</td>\n",
       "      <td>1</td>\n",
       "      <td>296</td>\n",
       "      <td>15.300000</td>\n",
       "      <td>396.899994</td>\n",
       "      <td>4.98</td>\n",
       "      <td>24.000000</td>\n",
       "    </tr>\n",
       "    <tr>\n",
       "      <th>1</th>\n",
       "      <td>0.02731</td>\n",
       "      <td>0.0</td>\n",
       "      <td>7.07</td>\n",
       "      <td>0</td>\n",
       "      <td>0.469</td>\n",
       "      <td>6.421</td>\n",
       "      <td>78.900002</td>\n",
       "      <td>4.9671</td>\n",
       "      <td>2</td>\n",
       "      <td>242</td>\n",
       "      <td>17.799999</td>\n",
       "      <td>396.899994</td>\n",
       "      <td>9.14</td>\n",
       "      <td>21.600000</td>\n",
       "    </tr>\n",
       "    <tr>\n",
       "      <th>2</th>\n",
       "      <td>0.02729</td>\n",
       "      <td>0.0</td>\n",
       "      <td>7.07</td>\n",
       "      <td>0</td>\n",
       "      <td>0.469</td>\n",
       "      <td>7.185</td>\n",
       "      <td>61.099998</td>\n",
       "      <td>4.9671</td>\n",
       "      <td>2</td>\n",
       "      <td>242</td>\n",
       "      <td>17.799999</td>\n",
       "      <td>392.829987</td>\n",
       "      <td>4.03</td>\n",
       "      <td>34.700001</td>\n",
       "    </tr>\n",
       "    <tr>\n",
       "      <th>3</th>\n",
       "      <td>0.03237</td>\n",
       "      <td>0.0</td>\n",
       "      <td>2.18</td>\n",
       "      <td>0</td>\n",
       "      <td>0.458</td>\n",
       "      <td>6.998</td>\n",
       "      <td>45.799999</td>\n",
       "      <td>6.0622</td>\n",
       "      <td>3</td>\n",
       "      <td>222</td>\n",
       "      <td>18.700001</td>\n",
       "      <td>394.630005</td>\n",
       "      <td>2.94</td>\n",
       "      <td>33.400002</td>\n",
       "    </tr>\n",
       "    <tr>\n",
       "      <th>4</th>\n",
       "      <td>0.06905</td>\n",
       "      <td>0.0</td>\n",
       "      <td>2.18</td>\n",
       "      <td>0</td>\n",
       "      <td>0.458</td>\n",
       "      <td>7.147</td>\n",
       "      <td>54.200001</td>\n",
       "      <td>6.0622</td>\n",
       "      <td>3</td>\n",
       "      <td>222</td>\n",
       "      <td>18.700001</td>\n",
       "      <td>396.899994</td>\n",
       "      <td>5.33</td>\n",
       "      <td>36.200001</td>\n",
       "    </tr>\n",
       "  </tbody>\n",
       "</table>\n",
       "</div>"
      ],
      "text/plain": [
       "      CRIM    ZN  INDUS  CHAS    NOX     RM        AGE     DIS  RAD  TAX  \\\n",
       "0  0.00632  18.0   2.31     0  0.538  6.575  65.199997  4.0900    1  296   \n",
       "1  0.02731   0.0   7.07     0  0.469  6.421  78.900002  4.9671    2  242   \n",
       "2  0.02729   0.0   7.07     0  0.469  7.185  61.099998  4.9671    2  242   \n",
       "3  0.03237   0.0   2.18     0  0.458  6.998  45.799999  6.0622    3  222   \n",
       "4  0.06905   0.0   2.18     0  0.458  7.147  54.200001  6.0622    3  222   \n",
       "\n",
       "          PT           B  LSTAT         MV  \n",
       "0  15.300000  396.899994   4.98  24.000000  \n",
       "1  17.799999  396.899994   9.14  21.600000  \n",
       "2  17.799999  392.829987   4.03  34.700001  \n",
       "3  18.700001  394.630005   2.94  33.400002  \n",
       "4  18.700001  396.899994   5.33  36.200001  "
      ]
     },
     "execution_count": 44,
     "metadata": {},
     "output_type": "execute_result"
    }
   ],
   "source": [
    "bos.head(5)"
   ]
  },
  {
   "cell_type": "code",
   "execution_count": 45,
   "metadata": {
    "collapsed": true
   },
   "outputs": [],
   "source": [
    "bos.rename(index=str, columns={\"MV\": \"PRICE\"},inplace= 'TRUE')"
   ]
  },
  {
   "cell_type": "code",
   "execution_count": 46,
   "metadata": {},
   "outputs": [
    {
     "data": {
      "text/plain": [
       "CRIM     False\n",
       "ZN       False\n",
       "INDUS    False\n",
       "CHAS     False\n",
       "NOX      False\n",
       "RM       False\n",
       "AGE      False\n",
       "DIS      False\n",
       "RAD      False\n",
       "TAX      False\n",
       "PT       False\n",
       "B        False\n",
       "LSTAT    False\n",
       "PRICE    False\n",
       "dtype: bool"
      ]
     },
     "execution_count": 46,
     "metadata": {},
     "output_type": "execute_result"
    }
   ],
   "source": [
    "bos.isnull().any()"
   ]
  },
  {
   "cell_type": "code",
   "execution_count": 47,
   "metadata": {
    "collapsed": true
   },
   "outputs": [],
   "source": [
    "X = bos.drop('PRICE', axis = 1)\n",
    "Y = bos['PRICE']"
   ]
  },
  {
   "cell_type": "code",
   "execution_count": 48,
   "metadata": {},
   "outputs": [
    {
     "data": {
      "text/plain": [
       "LinearRegression(copy_X=True, fit_intercept=True, n_jobs=1, normalize=False)"
      ]
     },
     "execution_count": 48,
     "metadata": {},
     "output_type": "execute_result"
    }
   ],
   "source": [
    "lm = LinearRegression()\n",
    "lm.fit(X,Y)"
   ]
  },
  {
   "cell_type": "code",
   "execution_count": 49,
   "metadata": {},
   "outputs": [
    {
     "name": "stdout",
     "output_type": "stream",
     "text": [
      "estimated intercept coefficint 36.4594914578\n"
     ]
    }
   ],
   "source": [
    "print('estimated intercept coefficint', lm.intercept_)"
   ]
  },
  {
   "cell_type": "code",
   "execution_count": 50,
   "metadata": {},
   "outputs": [
    {
     "name": "stdout",
     "output_type": "stream",
     "text": [
      "no. of coefficient 13\n"
     ]
    }
   ],
   "source": [
    "print('no. of coefficient' , len(lm.coef_))"
   ]
  },
  {
   "cell_type": "code",
   "execution_count": 51,
   "metadata": {},
   "outputs": [
    {
     "data": {
      "text/plain": [
       "[('CRIM', -0.10801135349181173),\n",
       " ('ZN', 0.046420455913895542),\n",
       " ('INDUS', 0.020558676115598778),\n",
       " ('CHAS', 2.6867338920506296),\n",
       " ('NOX', -17.766614854274849),\n",
       " ('RM', 3.8098649756017715),\n",
       " ('AGE', 0.00069222392627166229),\n",
       " ('DIS', -1.475566792626577),\n",
       " ('RAD', 0.30604951516041412),\n",
       " ('TAX', -0.012334593208123579),\n",
       " ('PT', -0.95274725606642818),\n",
       " ('B', 0.0093116834053419417),\n",
       " ('LSTAT', -0.5247583971973544)]"
      ]
     },
     "execution_count": 51,
     "metadata": {},
     "output_type": "execute_result"
    }
   ],
   "source": [
    "list(zip(X.columns,lm.coef_))"
   ]
  },
  {
   "cell_type": "code",
   "execution_count": 52,
   "metadata": {},
   "outputs": [
    {
     "data": {
      "image/png": "[encoded data removed]",
      "text/plain": [
       "<matplotlib.figure.Figure at 0x1d7308016d8>"
      ]
     },
     "metadata": {},
     "output_type": "display_data"
    }
   ],
   "source": [
    "plt.scatter(bos.RM,bos.PRICE,c='b')\n",
    "plt.xlabel(\"RM\")\n",
    "plt.ylabel(\"Price\")\n",
    "plt.title(\"RM vs prices\")\n",
    "plt.show()"
   ]
  },
  {
   "cell_type": "markdown",
   "metadata": {},
   "source": [
    "## MSE"
   ]
  },
  {
   "cell_type": "code",
   "execution_count": 53,
   "metadata": {},
   "outputs": [
    {
     "name": "stdout",
     "output_type": "stream",
     "text": [
      "21.894831188831237\n"
     ]
    }
   ],
   "source": [
    "mse =np.mean((bos.PRICE-lm.predict(X))**2)\n",
    "print(mse)"
   ]
  },
  {
   "cell_type": "code",
   "execution_count": 54,
   "metadata": {},
   "outputs": [
    {
     "data": {
      "text/plain": [
       "array([ 23.49502244,  16.64276161,  20.89086257,  34.10893075,\n",
       "        16.99684469,  12.37651608,  13.23003219,  25.1042028 ,\n",
       "        22.52995848,   7.3557165 ,  27.92138255,  26.67641733,\n",
       "        16.5561419 ,  20.90705186,  22.21161719,  12.02679561,\n",
       "        31.82627421,  33.10034726,  14.52291179,  41.17452286,\n",
       "        20.72250115,   8.22482968,  21.00552941,  31.66548226,\n",
       "         6.38626101,  25.47222069,  20.14001207,  19.75581064,\n",
       "        19.23289122,   6.55277567,  21.47501152,  23.54992897,\n",
       "        15.54426662,   8.87460032,  24.3497272 ,  18.87328938,\n",
       "        16.18536414,  20.56369615,  28.67823071,  26.60884895,\n",
       "        20.72441747,   5.28560224,  25.65967476,  17.89886558,\n",
       "        38.73954301,  18.18256401,  24.13572688,  22.31279577,\n",
       "        35.48734835,  18.08937764,  27.95173905,  37.94797643,\n",
       "        35.0815283 ,  22.03440291,  11.6560116 ,  38.38853418,\n",
       "        33.85752288,  25.83804   ,  28.78726522,  28.76691096,\n",
       "        22.65628524,  14.08134322,  25.95352085,  27.75378505,\n",
       "        27.18779405,  13.00127464,  22.71248947,  36.66874084,\n",
       "         7.55607466,  24.33696716,  12.88762144,   2.40023534,\n",
       "         8.27969472,  -1.01789828,   5.9989032 ,  27.30905465,\n",
       "        25.05994941,  19.66344833,  22.69592243,  20.34334286,\n",
       "        12.43023973,  19.74084936,  11.62585846,   7.01841134,\n",
       "        17.09966992,  30.31436391,  13.81472992,  37.18909566,\n",
       "        12.30324735,  10.77856143,  15.34811899,  19.1448656 ,\n",
       "        21.36600703,  30.15858725,  23.68739435,  19.94724795,\n",
       "        34.27532155,  29.55575701,  24.52831424,  34.93895449,\n",
       "        14.20250678,  21.39881557,   7.23549183,  26.32745259,\n",
       "        20.0423416 ,   0.7044408 ,   1.02750728,  20.03437354,\n",
       "        20.62712582,  29.41560337,  -0.26523147,  30.42356199,\n",
       "        15.00853994,  11.43685807,  15.69049068,  18.29956019,\n",
       "        14.93771545,  18.81330937,  10.35226183,  17.91140127,\n",
       "        24.19908294,  22.7056384 ,  18.64476069,   2.16848563,\n",
       "        20.95367372,  25.2182994 ,  29.48482483,  31.77081088,\n",
       "        12.05039764,  29.58990819,  30.48179678,  23.35366411,\n",
       "        22.85172345,  22.20086009,  18.71575603,  22.22570668,\n",
       "        21.09880993,  44.00740645,  20.42378971,  27.69131394,\n",
       "        17.65292818,  24.07122673,  14.71832334,  15.98130169,\n",
       "        31.71573903,  27.14148729,  10.36356167,  30.44731884,\n",
       "        25.05194081,  20.0284195 ,  21.93968248,  34.08257729])"
      ]
     },
     "execution_count": 54,
     "metadata": {},
     "output_type": "execute_result"
    }
   ],
   "source": [
    "X_train,X_test,y_train,y_test = train_test_split(X,bos.PRICE,test_size = 0.3,random_state=43)\n",
    "lm.fit(X_train,y_train)\n",
    "lm.predict(X_train)\n",
    "lm.predict(X_test)"
   ]
  },
  {
   "cell_type": "code",
   "execution_count": 55,
   "metadata": {},
   "outputs": [
    {
     "name": "stdout",
     "output_type": "stream",
     "text": [
      "MSE with Y_train: 21.42833253117588\n",
      "MSE with X_test, Y_test: 25.408891623109284\n"
     ]
    }
   ],
   "source": [
    "print ('MSE with Y_train:', np.mean((y_train-lm.predict(X_train)) ** 2))\n",
    "print ('MSE with X_test, Y_test:', np.mean((y_test-lm.predict(X_test)) ** 2))"
   ]
  }
 ],
 "metadata": {
  "kernelspec": {
   "display_name": "Python 3",
   "language": "python",
   "name": "python3"
  },
  "language_info": {
   "codemirror_mode": {
    "name": "ipython",
    "version": 3
   },
   "file_extension": ".py",
   "mimetype": "text/x-python",
   "name": "python",
   "nbconvert_exporter": "python",
   "pygments_lexer": "ipython3",
   "version": "3.6.2"
  }
 },
 "nbformat": 4,
 "nbformat_minor": 2
}
